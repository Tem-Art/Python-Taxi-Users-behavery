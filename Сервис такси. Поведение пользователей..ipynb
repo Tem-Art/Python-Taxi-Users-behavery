{
 "cells": [
  {
   "cell_type": "markdown",
   "id": "5dafb96d-a0fb-47a0-93dd-a7769e53a3d6",
   "metadata": {},
   "source": [
    "# Паспорт A/B теста"
   ]
  },
  {
   "cell_type": "markdown",
   "id": "50c57f4a-a09a-4cb4-a8c3-c3dad676bb63",
   "metadata": {},
   "source": [
    "**Гипотеза:** Если понизить коэффициент Surge в 2 раза (коэффициент, повышающий цену во время высокого спроса), то это увеличит на 3%( или больше) конверсию в заказ среди пользователей, которые увидели цену во время действия Surge.\n",
    "\n",
    "**Нулевая гипотеза (H₀):** Понижение коэффициента Surge не влияет на конверсию в заказ.\n",
    "\n",
    "**Альтернативная гипотеза (H₁):** Понижение коэффициента Surge увеличивает конверсию в заказ среди пользователей.\n",
    "\n"
   ]
  },
  {
   "cell_type": "markdown",
   "id": "1d0c26f2-8c5b-4af7-8005-4723c8f7ac7a",
   "metadata": {},
   "source": [
    "**Тестируемое изменение:** как повлияет снижение Surge на конверсию в поездку.\n",
    "\n",
    "**Генеральная совокупность:** все пользователи, которые увидели цену во время действия surge.\n",
    "\n",
    "**Первичная метрика:** CR из просмотра цены в заказ (order_made).\n",
    "\n",
    "**Вторичные метрики:** Общий доход на пользователя; Конверсия в завершение поездки (ride_completed), время ожидания.\n"
   ]
  },
  {
   "cell_type": "markdown",
   "id": "f92687d7-d468-4c95-8ea9-055354731ccc",
   "metadata": {},
   "source": [
    "**Тип данных:** Бинарные (сделан заказ — да/нет), непрерывные (коэффициент Surge).\n",
    "\n",
    "**Используемая статистика:** Тест Манна–Уитни.\n",
    "\n",
    "**Тип теста (tails):** Двухсторонний.\n",
    "\n",
    "**Текущая конверсия:** 72.28% (price_seen to order_made в период Surge).\n",
    "\n",
    "**Минимальный обнаруживаемый эффект (MDE):** 3%\n",
    "\n",
    "**Уровень значимости α:** 5%.\n",
    "\n",
    "**Мощность (1−β):** 80%.\n",
    "\n",
    "**Минимальный размер каждой группы:** 3527.\n",
    "\n",
    "**Сплитование:** 50 / 50 (разбивка - случайным способом, проверка на однородность - тест Манна-Уитни по distance и age).\n",
    "\n",
    "**Длительность теста:** 7 дней."
   ]
  },
  {
   "cell_type": "markdown",
   "id": "1f2615f0-c04a-4e76-8eb4-d284fb1378da",
   "metadata": {},
   "source": [
    "# Разделение на тестовую и контрольную группы"
   ]
  },
  {
   "cell_type": "code",
   "execution_count": 3,
   "id": "39e16716-9b44-4e2d-90c1-81affb2e50b5",
   "metadata": {},
   "outputs": [
    {
     "data": {
      "text/html": [
       "<div>\n",
       "<style scoped>\n",
       "    .dataframe tbody tr th:only-of-type {\n",
       "        vertical-align: middle;\n",
       "    }\n",
       "\n",
       "    .dataframe tbody tr th {\n",
       "        vertical-align: top;\n",
       "    }\n",
       "\n",
       "    .dataframe thead th {\n",
       "        text-align: right;\n",
       "    }\n",
       "</style>\n",
       "<table border=\"1\" class=\"dataframe\">\n",
       "  <thead>\n",
       "    <tr style=\"text-align: right;\">\n",
       "      <th></th>\n",
       "      <th>Unnamed: 0</th>\n",
       "      <th>user_id</th>\n",
       "      <th>hour</th>\n",
       "      <th>os</th>\n",
       "      <th>order_class</th>\n",
       "      <th>surge</th>\n",
       "      <th>app_opened</th>\n",
       "      <th>price_seen</th>\n",
       "      <th>order_made</th>\n",
       "      <th>ride_completed</th>\n",
       "      <th>user_cancelled</th>\n",
       "      <th>city_center_order</th>\n",
       "      <th>distance</th>\n",
       "      <th>age</th>\n",
       "      <th>rfm</th>\n",
       "    </tr>\n",
       "  </thead>\n",
       "  <tbody>\n",
       "    <tr>\n",
       "      <th>0</th>\n",
       "      <td>0</td>\n",
       "      <td>867689</td>\n",
       "      <td>12</td>\n",
       "      <td>iOS</td>\n",
       "      <td>business</td>\n",
       "      <td>no surge</td>\n",
       "      <td>1</td>\n",
       "      <td>1</td>\n",
       "      <td>1</td>\n",
       "      <td>1</td>\n",
       "      <td>0</td>\n",
       "      <td>0</td>\n",
       "      <td>7.982135</td>\n",
       "      <td>20</td>\n",
       "      <td>low</td>\n",
       "    </tr>\n",
       "    <tr>\n",
       "      <th>1</th>\n",
       "      <td>1</td>\n",
       "      <td>752172</td>\n",
       "      <td>5</td>\n",
       "      <td>Android</td>\n",
       "      <td>economy</td>\n",
       "      <td>no surge</td>\n",
       "      <td>1</td>\n",
       "      <td>1</td>\n",
       "      <td>1</td>\n",
       "      <td>1</td>\n",
       "      <td>0</td>\n",
       "      <td>1</td>\n",
       "      <td>2.908468</td>\n",
       "      <td>27</td>\n",
       "      <td>high</td>\n",
       "    </tr>\n",
       "    <tr>\n",
       "      <th>2</th>\n",
       "      <td>2</td>\n",
       "      <td>486559</td>\n",
       "      <td>15</td>\n",
       "      <td>Android</td>\n",
       "      <td>comfort</td>\n",
       "      <td>no surge</td>\n",
       "      <td>1</td>\n",
       "      <td>1</td>\n",
       "      <td>1</td>\n",
       "      <td>1</td>\n",
       "      <td>0</td>\n",
       "      <td>0</td>\n",
       "      <td>7.224614</td>\n",
       "      <td>21</td>\n",
       "      <td>high</td>\n",
       "    </tr>\n",
       "    <tr>\n",
       "      <th>3</th>\n",
       "      <td>3</td>\n",
       "      <td>304024</td>\n",
       "      <td>0</td>\n",
       "      <td>Android</td>\n",
       "      <td>economy</td>\n",
       "      <td>no surge</td>\n",
       "      <td>1</td>\n",
       "      <td>1</td>\n",
       "      <td>1</td>\n",
       "      <td>1</td>\n",
       "      <td>0</td>\n",
       "      <td>1</td>\n",
       "      <td>1.874349</td>\n",
       "      <td>52</td>\n",
       "      <td>low</td>\n",
       "    </tr>\n",
       "    <tr>\n",
       "      <th>4</th>\n",
       "      <td>4</td>\n",
       "      <td>139420</td>\n",
       "      <td>0</td>\n",
       "      <td>Android</td>\n",
       "      <td>business</td>\n",
       "      <td>no surge</td>\n",
       "      <td>1</td>\n",
       "      <td>1</td>\n",
       "      <td>1</td>\n",
       "      <td>1</td>\n",
       "      <td>0</td>\n",
       "      <td>0</td>\n",
       "      <td>10.704778</td>\n",
       "      <td>19</td>\n",
       "      <td>low</td>\n",
       "    </tr>\n",
       "  </tbody>\n",
       "</table>\n",
       "</div>"
      ],
      "text/plain": [
       "   Unnamed: 0  user_id  hour       os order_class     surge  app_opened  \\\n",
       "0           0   867689    12      iOS    business  no surge           1   \n",
       "1           1   752172     5  Android     economy  no surge           1   \n",
       "2           2   486559    15  Android     comfort  no surge           1   \n",
       "3           3   304024     0  Android     economy  no surge           1   \n",
       "4           4   139420     0  Android    business  no surge           1   \n",
       "\n",
       "   price_seen  order_made  ride_completed  user_cancelled  city_center_order  \\\n",
       "0           1           1               1               0                  0   \n",
       "1           1           1               1               0                  1   \n",
       "2           1           1               1               0                  0   \n",
       "3           1           1               1               0                  1   \n",
       "4           1           1               1               0                  0   \n",
       "\n",
       "    distance  age   rfm  \n",
       "0   7.982135   20   low  \n",
       "1   2.908468   27  high  \n",
       "2   7.224614   21  high  \n",
       "3   1.874349   52   low  \n",
       "4  10.704778   19   low  "
      ]
     },
     "execution_count": 3,
     "metadata": {},
     "output_type": "execute_result"
    }
   ],
   "source": [
    "import pandas as pd\n",
    "\n",
    "df = pd.read_csv(r'C:\\Users\\AAA\\Desktop\\user_sessions_taxi.csv')\n",
    "\n",
    "df.head(5)"
   ]
  },
  {
   "cell_type": "code",
   "execution_count": 4,
   "id": "894a3542-6395-44d9-bc1c-48fa9a81abcd",
   "metadata": {},
   "outputs": [],
   "source": [
    "# Фильтрация строк\n",
    "df_filtered = df[df['surge'] == 'surge']\n",
    "\n",
    "df_price_seen = df_filtered[df_filtered['price_seen'] == 1]"
   ]
  },
  {
   "cell_type": "code",
   "execution_count": 6,
   "id": "89577ba1-4b16-46ef-b158-8275fecf275c",
   "metadata": {},
   "outputs": [
    {
     "data": {
      "text/html": [
       "<div>\n",
       "<style scoped>\n",
       "    .dataframe tbody tr th:only-of-type {\n",
       "        vertical-align: middle;\n",
       "    }\n",
       "\n",
       "    .dataframe tbody tr th {\n",
       "        vertical-align: top;\n",
       "    }\n",
       "\n",
       "    .dataframe thead th {\n",
       "        text-align: right;\n",
       "    }\n",
       "</style>\n",
       "<table border=\"1\" class=\"dataframe\">\n",
       "  <thead>\n",
       "    <tr style=\"text-align: right;\">\n",
       "      <th></th>\n",
       "      <th>user_id</th>\n",
       "      <th>hour</th>\n",
       "      <th>os</th>\n",
       "      <th>order_class</th>\n",
       "      <th>distance</th>\n",
       "      <th>age</th>\n",
       "    </tr>\n",
       "  </thead>\n",
       "  <tbody>\n",
       "    <tr>\n",
       "      <th>0</th>\n",
       "      <td>100093</td>\n",
       "      <td>4.0</td>\n",
       "      <td>iOS</td>\n",
       "      <td>economy</td>\n",
       "      <td>9.090279</td>\n",
       "      <td>21.0</td>\n",
       "    </tr>\n",
       "    <tr>\n",
       "      <th>1</th>\n",
       "      <td>100118</td>\n",
       "      <td>8.0</td>\n",
       "      <td>iOS</td>\n",
       "      <td>comfort</td>\n",
       "      <td>10.942383</td>\n",
       "      <td>26.0</td>\n",
       "    </tr>\n",
       "    <tr>\n",
       "      <th>2</th>\n",
       "      <td>100134</td>\n",
       "      <td>20.0</td>\n",
       "      <td>iOS</td>\n",
       "      <td>business</td>\n",
       "      <td>13.714453</td>\n",
       "      <td>25.0</td>\n",
       "    </tr>\n",
       "    <tr>\n",
       "      <th>3</th>\n",
       "      <td>100166</td>\n",
       "      <td>8.0</td>\n",
       "      <td>Android</td>\n",
       "      <td>economy</td>\n",
       "      <td>4.448118</td>\n",
       "      <td>18.0</td>\n",
       "    </tr>\n",
       "  </tbody>\n",
       "</table>\n",
       "</div>"
      ],
      "text/plain": [
       "   user_id  hour       os order_class   distance   age\n",
       "0   100093   4.0      iOS     economy   9.090279  21.0\n",
       "1   100118   8.0      iOS     comfort  10.942383  26.0\n",
       "2   100134  20.0      iOS    business  13.714453  25.0\n",
       "3   100166   8.0  Android     economy   4.448118  18.0"
      ]
     },
     "execution_count": 6,
     "metadata": {},
     "output_type": "execute_result"
    }
   ],
   "source": [
    "# Удаление строк, где значение в столбце 'distance' является null\n",
    "df_price_seen = df_price_seen.dropna(subset=['distance'])\n",
    "df_price_seen = df_price_seen.dropna(subset=['age'])\n",
    "\n",
    "# Группируем данные по user_id с медиальными значениями по distance, age и hour\n",
    "df_price_seen_median = df_price_seen.groupby('user_id').agg({\n",
    "    'hour': 'median',\n",
    "    'os': 'first',\n",
    "    'order_class': 'first',\n",
    "    'distance': 'median',\n",
    "    'age': 'median',\n",
    "    \n",
    "}).reset_index()\n",
    "\n",
    "df_price_seen_median.head(4)"
   ]
  },
  {
   "cell_type": "code",
   "execution_count": 7,
   "id": "4a218ef7-f174-4980-8b95-ac5496e18709",
   "metadata": {},
   "outputs": [],
   "source": [
    "# Распределение по группам случайным образом с фиксацией случайности.\n",
    "\n",
    "group_a = df_price_seen_median.sample(frac=0.5, random_state=42)  # Группа A (50% случайно выбранных строк)\n",
    "group_b = df_price_seen_median.drop(group_a.index)  # Группа B (оставшиеся строки)\n"
   ]
  },
  {
   "cell_type": "markdown",
   "id": "9422b496-0b84-433c-9536-069ff514846a",
   "metadata": {},
   "source": [
    "Данные разделены. Теперь проверим однородность получившихся групп по столбцам distance и age. "
   ]
  },
  {
   "cell_type": "code",
   "execution_count": 8,
   "id": "8b585221-3abc-4aa8-8ca3-cb95d6fd0b8a",
   "metadata": {},
   "outputs": [
    {
     "data": {
      "image/png": "[encoded data removed]",
      "text/plain": [
       "<Figure size 1200x600 with 2 Axes>"
      ]
     },
     "metadata": {},
     "output_type": "display_data"
    }
   ],
   "source": [
    "import seaborn as sns\n",
    "import matplotlib.pyplot as plt\n",
    "\n",
    "# График распределения для группы A\n",
    "plt.figure(figsize=(12, 6))\n",
    "plt.subplot(1, 2, 1)  # Два графика в одной строке\n",
    "sns.histplot(group_a['distance'], kde=True, color='blue', bins=20)\n",
    "plt.title('distance Distribution in Group A', fontsize=16)\n",
    "plt.xlabel('distance', fontsize=14)\n",
    "plt.ylabel('Count', fontsize=14)\n",
    "\n",
    "# График распределения для группы B\n",
    "plt.subplot(1, 2, 2)\n",
    "sns.histplot(group_b['distance'], kde=True, color='green', bins=20)\n",
    "plt.title('distance Distribution in Group B', fontsize=16)\n",
    "plt.xlabel('distance', fontsize=14)\n",
    "plt.ylabel('Count', fontsize=14)\n",
    "\n",
    "\n",
    "plt.tight_layout()\n",
    "plt.show()"
   ]
  },
  {
   "cell_type": "code",
   "execution_count": 9,
   "id": "7a994bc0-3783-466c-9850-5fb2f93dbed8",
   "metadata": {},
   "outputs": [
    {
     "name": "stdout",
     "output_type": "stream",
     "text": [
      "Mann-Whitney U test: p-value = 0.38197926446686836\n"
     ]
    }
   ],
   "source": [
    "# Т.к. распределения логонормальные, t-тест не подходит, поэтому используем тест Манна-Уитни для сравнения выборок.\n",
    "\n",
    "from scipy.stats import mannwhitneyu\n",
    "\n",
    "stat, p_val = mannwhitneyu(group_a['distance'], group_b['distance'])\n",
    "\n",
    "print(f\"Mann-Whitney U test: p-value = {p_val}\")"
   ]
  },
  {
   "cell_type": "markdown",
   "id": "5ee2d9c2-4fac-4f3d-93a3-6e1076678ddc",
   "metadata": {},
   "source": [
    "Значение p-value (0.38)  > α = 0,05. Выборки не имеют статистически значимых различий."
   ]
  },
  {
   "cell_type": "code",
   "execution_count": 10,
   "id": "c4ae6943-3814-4eb9-ace6-f0f7739e775e",
   "metadata": {},
   "outputs": [
    {
     "name": "stdout",
     "output_type": "stream",
     "text": [
      "Mann-Whitney U test: p-value = 0.7891808881933662\n"
     ]
    }
   ],
   "source": [
    "# Также используем тест Манна-Уитни для сравнения групп.\n",
    "\n",
    "stat, p_val = mannwhitneyu(group_a['age'], group_b['age'])\n",
    "print(f\"Mann-Whitney U test: p-value = {p_val}\")"
   ]
  },
  {
   "cell_type": "markdown",
   "id": "6f80954f-09e4-4b63-961d-07ae00b38483",
   "metadata": {},
   "source": [
    "По столбцу age группы также равномерные."
   ]
  },
  {
   "cell_type": "markdown",
   "id": "973a9a61-fb30-4e97-aa1b-d0407675262b",
   "metadata": {},
   "source": [
    "### После того, как сформировали две группы, мы можем запускать тест."
   ]
  },
  {
   "cell_type": "markdown",
   "id": "fd09a5b2-9da0-44dd-83cc-5ce55d4152cf",
   "metadata": {},
   "source": [
    "# Анализ результатов"
   ]
  },
  {
   "cell_type": "code",
   "execution_count": 16,
   "id": "f2a2929e-e595-4ab3-ab9e-8b9fd5634549",
   "metadata": {},
   "outputs": [
    {
     "data": {
      "text/html": [
       "<div>\n",
       "<style scoped>\n",
       "    .dataframe tbody tr th:only-of-type {\n",
       "        vertical-align: middle;\n",
       "    }\n",
       "\n",
       "    .dataframe tbody tr th {\n",
       "        vertical-align: top;\n",
       "    }\n",
       "\n",
       "    .dataframe thead th {\n",
       "        text-align: right;\n",
       "    }\n",
       "</style>\n",
       "<table border=\"1\" class=\"dataframe\">\n",
       "  <thead>\n",
       "    <tr style=\"text-align: right;\">\n",
       "      <th></th>\n",
       "      <th>user_id</th>\n",
       "      <th>date</th>\n",
       "      <th>app_opened</th>\n",
       "      <th>group</th>\n",
       "      <th>price_seen</th>\n",
       "      <th>order_made</th>\n",
       "      <th>surge</th>\n",
       "      <th>os</th>\n",
       "      <th>user_cancelled</th>\n",
       "      <th>city_center_order</th>\n",
       "      <th>groups</th>\n",
       "    </tr>\n",
       "  </thead>\n",
       "  <tbody>\n",
       "    <tr>\n",
       "      <th>1</th>\n",
       "      <td>867689</td>\n",
       "      <td>2020-05-29</td>\n",
       "      <td>1</td>\n",
       "      <td>Control</td>\n",
       "      <td>1</td>\n",
       "      <td>0</td>\n",
       "      <td>surge</td>\n",
       "      <td>iOS</td>\n",
       "      <td>NaN</td>\n",
       "      <td>NaN</td>\n",
       "      <td>Control</td>\n",
       "    </tr>\n",
       "    <tr>\n",
       "      <th>2</th>\n",
       "      <td>867689</td>\n",
       "      <td>2020-05-25</td>\n",
       "      <td>1</td>\n",
       "      <td>Control</td>\n",
       "      <td>1</td>\n",
       "      <td>1</td>\n",
       "      <td>surge</td>\n",
       "      <td>Android</td>\n",
       "      <td>0.0</td>\n",
       "      <td>0.0</td>\n",
       "      <td>Control</td>\n",
       "    </tr>\n",
       "    <tr>\n",
       "      <th>3</th>\n",
       "      <td>752172</td>\n",
       "      <td>2020-05-29</td>\n",
       "      <td>1</td>\n",
       "      <td>Control</td>\n",
       "      <td>1</td>\n",
       "      <td>1</td>\n",
       "      <td>surge</td>\n",
       "      <td>Android</td>\n",
       "      <td>0.0</td>\n",
       "      <td>1.0</td>\n",
       "      <td>Control</td>\n",
       "    </tr>\n",
       "    <tr>\n",
       "      <th>5</th>\n",
       "      <td>486559</td>\n",
       "      <td>2020-05-25</td>\n",
       "      <td>1</td>\n",
       "      <td>Control</td>\n",
       "      <td>1</td>\n",
       "      <td>0</td>\n",
       "      <td>surge</td>\n",
       "      <td>Android</td>\n",
       "      <td>NaN</td>\n",
       "      <td>NaN</td>\n",
       "      <td>Control</td>\n",
       "    </tr>\n",
       "    <tr>\n",
       "      <th>8</th>\n",
       "      <td>486559</td>\n",
       "      <td>2020-05-28</td>\n",
       "      <td>1</td>\n",
       "      <td>Control</td>\n",
       "      <td>1</td>\n",
       "      <td>0</td>\n",
       "      <td>surge</td>\n",
       "      <td>iOS</td>\n",
       "      <td>NaN</td>\n",
       "      <td>NaN</td>\n",
       "      <td>Control</td>\n",
       "    </tr>\n",
       "  </tbody>\n",
       "</table>\n",
       "</div>"
      ],
      "text/plain": [
       "   user_id       date  app_opened    group  price_seen  order_made  surge  \\\n",
       "1   867689 2020-05-29           1  Control           1           0  surge   \n",
       "2   867689 2020-05-25           1  Control           1           1  surge   \n",
       "3   752172 2020-05-29           1  Control           1           1  surge   \n",
       "5   486559 2020-05-25           1  Control           1           0  surge   \n",
       "8   486559 2020-05-28           1  Control           1           0  surge   \n",
       "\n",
       "        os  user_cancelled  city_center_order   groups  \n",
       "1      iOS             NaN                NaN  Control  \n",
       "2  Android             0.0                0.0  Control  \n",
       "3  Android             0.0                1.0  Control  \n",
       "5  Android             NaN                NaN  Control  \n",
       "8      iOS             NaN                NaN  Control  "
      ]
     },
     "execution_count": 16,
     "metadata": {},
     "output_type": "execute_result"
    }
   ],
   "source": [
    "df = pd.read_csv(r'C:\\Users\\AAA\\Desktop\\post_abtest_data.csv')\n",
    "\n",
    "# Преобразование столбца 'date' в формат даты\n",
    "df['date'] = pd.to_datetime(df['date'])\n",
    "\n",
    "# Фильтруем данные.\n",
    "df_surge = df[df['surge'] == 'surge']\n",
    "\n",
    "df_surge.head(5)"
   ]
  },
  {
   "cell_type": "code",
   "execution_count": 17,
   "id": "a4cf794f-b5b6-48b9-a4df-7a671cd9accf",
   "metadata": {},
   "outputs": [],
   "source": [
    "# Фильтруем группы Control и Test\n",
    "df_control = df_surge[df_surge['group'] == 'Control']\n",
    "df_test = df_surge[df_surge['group'] == 'Test']\n"
   ]
  },
  {
   "cell_type": "code",
   "execution_count": 18,
   "id": "4bc8e8fc-7bfb-451c-b9cb-3a690578b6ae",
   "metadata": {},
   "outputs": [
    {
     "name": "stdout",
     "output_type": "stream",
     "text": [
      "Количество уникальных user_id в контрольной группе: 8505\n",
      "Количество уникальных user_id в тестовой группе: 8445\n",
      "Количество user_id, которые присутствуют и в контрольной, и в тестовой группе: 0\n"
     ]
    }
   ],
   "source": [
    "# Убедимся, что user_id уникальны в каждой группе\n",
    "control_user_ids = set(df_control['user_id'].unique())\n",
    "test_user_ids = set(df_test['user_id'].unique())\n",
    "\n",
    "# Найдем пересечения\n",
    "duplicate_user_ids = control_user_ids.intersection(test_user_ids)\n",
    "\n",
    "# Выводим результаты\n",
    "print(f\"Количество уникальных user_id в контрольной группе: {len(control_user_ids)}\")\n",
    "print(f\"Количество уникальных user_id в тестовой группе: {len(test_user_ids)}\")\n",
    "print(f\"Количество user_id, которые присутствуют и в контрольной, и в тестовой группе: {len(duplicate_user_ids)}\")"
   ]
  },
  {
   "cell_type": "code",
   "execution_count": 19,
   "id": "4901c758-fe8d-40b9-9c98-90e7472d7ae0",
   "metadata": {},
   "outputs": [
    {
     "name": "stdout",
     "output_type": "stream",
     "text": [
      "Control Group Counts by Date:\n",
      "        date  control_count\n",
      "0 2020-05-25           2013\n",
      "1 2020-05-26           2017\n",
      "2 2020-05-27           2065\n",
      "3 2020-05-28           2061\n",
      "4 2020-05-29           2043\n",
      "5 2020-05-30           2101\n",
      "6 2020-05-31           2083\n",
      "\n",
      "Test Group Counts by Date:\n",
      "        date  test_count\n",
      "0 2020-05-25        2066\n",
      "1 2020-05-26        2011\n",
      "2 2020-05-27        2082\n",
      "3 2020-05-28        1975\n",
      "4 2020-05-29        2065\n",
      "5 2020-05-30        2069\n",
      "6 2020-05-31        2101\n"
     ]
    }
   ],
   "source": [
    "# Подсчет количества записей в группах по дням\n",
    "\n",
    "control_counts = df_control.groupby('date').size().reset_index(name='control_count')\n",
    "test_counts = df_test.groupby('date').size().reset_index(name='test_count')\n",
    "\n",
    "# Вывод результатов\n",
    "print(\"Control Group Counts by Date:\")\n",
    "print(control_counts)\n",
    "\n",
    "print(\"\\nTest Group Counts by Date:\")\n",
    "print(test_counts)"
   ]
  },
  {
   "cell_type": "markdown",
   "id": "6d854e54-4aa4-4634-84cb-dca750993d5f",
   "metadata": {},
   "source": [
    "Как видно в таблице, на каждый день в каждой группе достаточное и приблизительно равное кол-во наблюдений."
   ]
  },
  {
   "cell_type": "code",
   "execution_count": 20,
   "id": "c0b17886-35f2-4f69-861e-3cf017a627dd",
   "metadata": {},
   "outputs": [
    {
     "name": "stdout",
     "output_type": "stream",
     "text": [
      "Конверсия группы control: 60.01%\n",
      "Конверсия группы test: 61.81%\n",
      "Разница: 1.81%\n"
     ]
    }
   ],
   "source": [
    "# Считаем конверсии price_seen to order_made для каждой группы.\n",
    "\n",
    "control_price_seen_count = df_control['price_seen'].sum()\n",
    "control_order_made_count = df_control['order_made'].sum()\n",
    "\n",
    "test_price_seen_count = df_test['price_seen'].sum()\n",
    "test_order_made_count = df_test['order_made'].sum()\n",
    "\n",
    "conversion_control = control_order_made_count / control_price_seen_count if control_price_seen_count > 0 else 0\n",
    "conversion_test = test_order_made_count / test_price_seen_count if test_price_seen_count > 0 else 0\n",
    "\n",
    "print(f\"Конверсия группы control: {conversion_control:.2%}\")\n",
    "print(f\"Конверсия группы test: {conversion_test:.2%}\")\n",
    "print(f\"Разница: {(conversion_test - conversion_control) :.2%}\")"
   ]
  },
  {
   "cell_type": "markdown",
   "id": "4c2c3cb6-aaf5-4c67-b83d-7de2a888017f",
   "metadata": {},
   "source": [
    "В результате конверсия увеличилась на 1.81%, вместо 3% - цель не достигнута. \n",
    "Проверим стат. значимость результатов и посмотрим на **p-value**."
   ]
  },
  {
   "cell_type": "code",
   "execution_count": 23,
   "id": "99a77047-965d-4c24-bc8e-26d9158d24d9",
   "metadata": {},
   "outputs": [
    {
     "name": "stdout",
     "output_type": "stream",
     "text": [
      "Z-статистика: -3.137\n",
      "p-value: 0.0017\n",
      "Различие между группами статистически значимо (отвергаем H₀)\n"
     ]
    }
   ],
   "source": [
    "# Подсчёт общего количества заказов и показов цены в каждой группе\n",
    "control_orders = df_control['order_made'].sum()\n",
    "control_total = df_control['price_seen'].sum()\n",
    "\n",
    "test_orders = df_test['order_made'].sum()\n",
    "test_total = df_test['price_seen'].sum()\n",
    "\n",
    "# Проверка через z-тест для пропорций\n",
    "count = np.array([control_orders, test_orders])  # число успешных заказов\n",
    "nobs = np.array([control_total, test_total])     # общее число показов цены\n",
    "\n",
    "z_stat, p_val = proportions_ztest(count, nobs)\n",
    "\n",
    "print(f\"Z-статистика: {z_stat:.3f}\")\n",
    "print(f\"p-value: {p_val:.4f}\")\n",
    "\n",
    "# Интерпретация результата\n",
    "if p_val < 0.05:\n",
    "    print(\"Различие между группами статистически значимо (отвергаем H₀)\")\n",
    "else:\n",
    "    print(\"Нет статистически значимого различия (не отвергаем H₀)\")"
   ]
  },
  {
   "cell_type": "markdown",
   "id": "4ca04b54-d999-46cb-bef7-8a80d55897c1",
   "metadata": {},
   "source": [
    "Также посмотрим на **p-value в динамике**, чтобы исключить влияние аномалий и непредвиденных событий."
   ]
  },
  {
   "cell_type": "code",
   "execution_count": 21,
   "id": "8eef4daf-e74f-40b8-8f6f-56b9ca41b429",
   "metadata": {},
   "outputs": [
    {
     "data": {
      "image/png": "[encoded data removed]",
      "text/plain": [
       "<Figure size 1000x600 with 1 Axes>"
      ]
     },
     "metadata": {},
     "output_type": "display_data"
    }
   ],
   "source": [
    "# Построим периодический p-value, чтобы проанализировать в динамике. \n",
    "# Посколько данные бинарны, используем z-тест.\n",
    "\n",
    "import numpy as np\n",
    "from statsmodels.stats.proportion import proportions_ztest\n",
    "import matplotlib.pyplot as plt\n",
    "\n",
    "p_values = []\n",
    "dates = []\n",
    "\n",
    "# Проходим по уникальным датам\n",
    "for date in df_surge['date'].unique():\n",
    "    # Фильтрация данных по конкретной дате\n",
    "    daily_control = df_control[df_control['date'] == date]\n",
    "    daily_test = df_test[df_test['date'] == date]\n",
    "\n",
    "    # Проверка, что есть данные в обеих группах\n",
    "    if len(daily_control) > 1 and len(daily_test) > 1:\n",
    "        # Количество заказов (order_made == 1) в каждой группе\n",
    "        control_orders = daily_control['order_made'].sum()\n",
    "        test_orders = daily_test['order_made'].sum()\n",
    "\n",
    "        # Общее количество наблюдений в каждой группе\n",
    "        control_total = len(daily_control)\n",
    "        test_total = len(daily_test)\n",
    "\n",
    "        # Выполнение Z-теста для пропорций\n",
    "        count = np.array([control_orders, test_orders])  # Количество успехов (заказов) в каждой группе\n",
    "        nobs = np.array([control_total, test_total])     # Количество наблюдений в каждой группе\n",
    "\n",
    "        z_stat, p_val = proportions_ztest(count, nobs)\n",
    "\n",
    "        # Сохранение p-value и даты\n",
    "        p_values.append(p_val)\n",
    "        dates.append(date)\n",
    "\n",
    "# Преобразуем даты и p-values в датафрейм для удобства\n",
    "p_values_df = pd.DataFrame({'date': dates, 'p_value': p_values})\n",
    "\n",
    "# Сортировка по дате\n",
    "p_values_df = p_values_df.sort_values(by='date')\n",
    "\n",
    "# Визуализация p-value по дням\n",
    "plt.figure(figsize=(10, 6))\n",
    "plt.plot(p_values_df['date'], p_values_df['p_value'], marker='o', linestyle='-', color='b', label='p-value')\n",
    "plt.axhline(y=0.05, color='r', linestyle='--', label='Significance level (α = 0.05)')  # Линия уровня значимости\n",
    "\n",
    "# Добавляем подписи\n",
    "plt.title('Daily p-values from Z-test (Control vs Test)', fontsize=16)\n",
    "plt.xlabel('Date', fontsize=14)\n",
    "plt.ylabel('p-value', fontsize=14)\n",
    "plt.xticks(rotation=45)\n",
    "plt.legend()\n",
    "\n",
    "# Показ графика\n",
    "plt.tight_layout()\n",
    "plt.show()"
   ]
  },
  {
   "cell_type": "markdown",
   "id": "f8d7f288-c0d0-4d69-aa2a-d3391ca18340",
   "metadata": {},
   "source": [
    "### Результаты стабильны, сильных аномалий не наблюдается. На каждый день daily p_value > α из-за недостаточности данных в каждом дне (2000 вместо 3500).\n",
    "### Поскольку выше рассчитан общий p_value и daily p_value < α в каждый из дней, нет необходимости делать поправку на множественное тестирование."
   ]
  },
  {
   "cell_type": "markdown",
   "id": "d9705f27-99c3-47bd-8ed5-10159e52abc6",
   "metadata": {},
   "source": [
    "# Вывод"
   ]
  },
  {
   "cell_type": "markdown",
   "id": "7c0968a0-be2c-49a6-8021-5013d9810708",
   "metadata": {},
   "source": [
    "### Проведённый A/B-тест показал, что снижение коэффициента Surge оказывает статистически значимое влияние на конверсию: в тестовой группе прирост составил 1.81% (p-value < 0.05).\n",
    "\n",
    "### Однако этот эффект оказался **слишком малым, чтобы оправдать потери в выручке**, связанные с понижением цен. Снижение Surge не привело к заметному росту заказов или другим выраженным бизнес-результатам.\n",
    "\n",
    "### Компания может на основе этих результатов отказаться от внедрения подобного изменения и дальнейшие эксперименты стоит направить на другие аспекты ценообразования или улучшение пользовательского опыта."
   ]
  }
 ],
 "metadata": {
  "kernelspec": {
   "display_name": "Python 3 (ipykernel)",
   "language": "python",
   "name": "python3"
  },
  "language_info": {
   "codemirror_mode": {
    "name": "ipython",
    "version": 3
   },
   "file_extension": ".py",
   "mimetype": "text/x-python",
   "name": "python",
   "nbconvert_exporter": "python",
   "pygments_lexer": "ipython3",
   "version": "3.12.7"
  }
 },
 "nbformat": 4,
 "nbformat_minor": 5
}
